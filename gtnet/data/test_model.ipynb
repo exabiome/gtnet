{
 "cells": [
  {
   "cell_type": "code",
   "execution_count": 10,
   "id": "acf87375-4bf9-4bb1-acb1-582d165b300f",
   "metadata": {},
   "outputs": [],
   "source": [
    "import numpy as np\n",
    "import onnxruntime as rt\n",
    "import skbio"
   ]
  },
  {
   "cell_type": "code",
   "execution_count": 2,
   "id": "9e43438d-3a0e-4ead-8b72-cc9b96deae41",
   "metadata": {},
   "outputs": [],
   "source": [
    "sess = rt.InferenceSession('bac120_r202.resnet5.genus.onnx')"
   ]
  },
  {
   "cell_type": "code",
   "execution_count": 3,
   "id": "f3ee5f83-df9d-49da-8fa6-1ca48d6af7e6",
   "metadata": {},
   "outputs": [
    {
     "data": {
      "text/plain": [
       "<onnxruntime.capi.onnxruntime_inference_collection.InferenceSession at 0x2aaaaec288e0>"
      ]
     },
     "execution_count": 3,
     "metadata": {},
     "output_type": "execute_result"
    }
   ],
   "source": [
    "sess"
   ]
  },
  {
   "cell_type": "code",
   "execution_count": 6,
   "id": "f9bc1a13-74e4-47b7-b33a-1896a394273f",
   "metadata": {},
   "outputs": [],
   "source": [
    "input_name = sess.get_inputs()[0].name"
   ]
  },
  {
   "cell_type": "code",
   "execution_count": 7,
   "id": "2a2ddd0f-1697-431f-8114-30108e9247ed",
   "metadata": {},
   "outputs": [],
   "source": [
    "path = '/global/cscratch1/sd/azaidi/GCA_000006155.2_ASM615v2_genomic.fna'"
   ]
  },
  {
   "cell_type": "code",
   "execution_count": 8,
   "id": "3084e05f-4ed9-4d08-b67d-c63e476d5024",
   "metadata": {},
   "outputs": [],
   "source": [
    "def _get_DNA_map():\n",
    "    '''\n",
    "    create a DNA map with some redundancy so that we can\n",
    "    do base-complements with +/% operations.\n",
    "    Using this scheme, the complement of a base should be:\n",
    "    (base_integer + 9) % 18\n",
    "    chars[(basemap[ord('N')]+9)%18]\n",
    "    For this to work, bases need to be ordered as they are below\n",
    "    '''\n",
    "    chars = ('ACYWSKDVN'\n",
    "             'TGRWSMHBN')\n",
    "    basemap = np.zeros(128, dtype=np.uint8)\n",
    "    for i, c in reversed(list(enumerate(chars))):  # reverse so we store the lowest for self-complementary codes\n",
    "        basemap[ord(c)] = i\n",
    "        basemap[ord(c.lower())] = i\n",
    "    return chars, basemap\n",
    "\n",
    "#this will just pull all the sequences from a fasta file\n",
    "def get_seqs(path):\n",
    "    return [seq.values.view(np.uint8) for seq in skbio.io.read(path, format='fasta')]\n",
    "\n",
    "#this will produce a list featuring chunks of the sequence\n",
    "def chunk_seq(sequence, size):\n",
    "    num_windows = len(sequence)//size\n",
    "    return [sequence[size*i: size*(i+1)] for i in range(num_windows)]\n",
    "\n",
    "#this will map each item onto our basemap from above\n",
    "def map_seq(chunked_sequence, basemap):\n",
    "    return basemap[np.array(chunked_sequence)]#.view(np.uint8)]\n",
    "    #return basemap[np.vectorize(ord)(np.array(chunked_sequence))]\n",
    "\n",
    "#this will return the reverse complementary strand    \n",
    "def get_rev_comp(chunks, chars):\n",
    "    chars_dict = {i:v for i,v in enumerate(chars)}\n",
    "    return np.vectorize(chars_dict.get)((chunks + 9) %18)\n",
    "\n",
    "#combines fxns above into a single array with chunks in both directons\n",
    "def get_bidir_seq(chunks):\n",
    "    chars, basemap = _get_DNA_map()\n",
    "    fwd_chunk_mapped = map_seq(chunks, basemap).astype(int)\n",
    "    rev_chunked = get_rev_comp(fwd_chunk_mapped, chars)\n",
    "    rev_chunk_mapped = map_seq(rev_chunked, basemap).astype(int)\n",
    "    bi_seq = np.append(fwd_chunk_mapped, rev_chunk_mapped, axis=0)\n",
    "    return bi_seq"
   ]
  },
  {
   "cell_type": "code",
   "execution_count": 11,
   "id": "fb2a6e10-36b4-4990-b0f4-39e27affee41",
   "metadata": {},
   "outputs": [
    {
     "data": {
      "text/plain": [
       "3"
      ]
     },
     "execution_count": 11,
     "metadata": {},
     "output_type": "execute_result"
    }
   ],
   "source": [
    "sequences = get_seqs(path)\n",
    "len(sequences)"
   ]
  },
  {
   "cell_type": "code",
   "execution_count": 26,
   "id": "932acc8f-9500-4511-912f-faffa4eb0f3b",
   "metadata": {},
   "outputs": [],
   "source": [
    "chars, basemap = _get_DNA_map()\n",
    "chunked_seq = chunk_seq(sequences[1], 2024)\n",
    "one_seq = map_seq(chunked_seq, basemap)"
   ]
  },
  {
   "cell_type": "code",
   "execution_count": 27,
   "id": "5cba5413-183e-43e6-ac4d-371c042883e7",
   "metadata": {},
   "outputs": [
    {
     "data": {
      "text/plain": [
       "array([[ 9,  0,  9, ..., 10,  9,  0],\n",
       "       [ 9,  9,  9, ...,  9,  0,  0],\n",
       "       [ 1,  9,  9, ...,  9,  1,  1],\n",
       "       ...,\n",
       "       [ 9, 10,  0, ...,  9,  9,  1],\n",
       "       [ 0,  1, 10, ...,  0,  0,  0],\n",
       "       [ 1,  1,  9, ...,  9,  9,  0]], dtype=uint8)"
      ]
     },
     "execution_count": 27,
     "metadata": {},
     "output_type": "execute_result"
    }
   ],
   "source": [
    "one_seq"
   ]
  },
  {
   "cell_type": "code",
   "execution_count": 28,
   "id": "3d9560fa-8fef-425f-9cbe-4142b46f4945",
   "metadata": {},
   "outputs": [
    {
     "data": {
      "text/plain": [
       "(10, 2024)"
      ]
     },
     "execution_count": 28,
     "metadata": {},
     "output_type": "execute_result"
    }
   ],
   "source": [
    "one_seq[:10].shape"
   ]
  },
  {
   "cell_type": "code",
   "execution_count": 29,
   "id": "a8f99307-184f-4ee5-80ac-a033690da09b",
   "metadata": {},
   "outputs": [
    {
     "ename": "InvalidArgument",
     "evalue": "[ONNXRuntimeError] : 2 : INVALID_ARGUMENT : Got invalid dimensions for input: data for the following indices\n index: 1 Got: 2024 Expected: 4096\n Please fix either the inputs or the model.",
     "output_type": "error",
     "traceback": [
      "\u001b[0;31m---------------------------------------------------------------------------\u001b[0m",
      "\u001b[0;31mInvalidArgument\u001b[0m                           Traceback (most recent call last)",
      "\u001b[0;32m<ipython-input-29-b35ae6afe886>\u001b[0m in \u001b[0;36m<module>\u001b[0;34m\u001b[0m\n\u001b[0;32m----> 1\u001b[0;31m \u001b[0mpred_onx\u001b[0m \u001b[0;34m=\u001b[0m \u001b[0msess\u001b[0m\u001b[0;34m.\u001b[0m\u001b[0mrun\u001b[0m\u001b[0;34m(\u001b[0m\u001b[0;32mNone\u001b[0m\u001b[0;34m,\u001b[0m \u001b[0;34m{\u001b[0m\u001b[0minput_name\u001b[0m\u001b[0;34m:\u001b[0m \u001b[0mone_seq\u001b[0m\u001b[0;34m[\u001b[0m\u001b[0;34m:\u001b[0m\u001b[0;36m10\u001b[0m\u001b[0;34m]\u001b[0m\u001b[0;34m.\u001b[0m\u001b[0mastype\u001b[0m\u001b[0;34m(\u001b[0m\u001b[0mnp\u001b[0m\u001b[0;34m.\u001b[0m\u001b[0mint64\u001b[0m\u001b[0;34m)\u001b[0m\u001b[0;34m}\u001b[0m\u001b[0;34m)\u001b[0m\u001b[0;34m[\u001b[0m\u001b[0;36m0\u001b[0m\u001b[0;34m]\u001b[0m\u001b[0;34m\u001b[0m\u001b[0;34m\u001b[0m\u001b[0m\n\u001b[0m\u001b[1;32m      2\u001b[0m \u001b[0mpred_onx\u001b[0m\u001b[0;34m.\u001b[0m\u001b[0mshape\u001b[0m\u001b[0;34m\u001b[0m\u001b[0;34m\u001b[0m\u001b[0m\n",
      "\u001b[0;32m~/.conda/envs/zenv/lib/python3.8/site-packages/onnxruntime/capi/onnxruntime_inference_collection.py\u001b[0m in \u001b[0;36mrun\u001b[0;34m(self, output_names, input_feed, run_options)\u001b[0m\n\u001b[1;32m    186\u001b[0m             \u001b[0moutput_names\u001b[0m \u001b[0;34m=\u001b[0m \u001b[0;34m[\u001b[0m\u001b[0moutput\u001b[0m\u001b[0;34m.\u001b[0m\u001b[0mname\u001b[0m \u001b[0;32mfor\u001b[0m \u001b[0moutput\u001b[0m \u001b[0;32min\u001b[0m \u001b[0mself\u001b[0m\u001b[0;34m.\u001b[0m\u001b[0m_outputs_meta\u001b[0m\u001b[0;34m]\u001b[0m\u001b[0;34m\u001b[0m\u001b[0;34m\u001b[0m\u001b[0m\n\u001b[1;32m    187\u001b[0m         \u001b[0;32mtry\u001b[0m\u001b[0;34m:\u001b[0m\u001b[0;34m\u001b[0m\u001b[0;34m\u001b[0m\u001b[0m\n\u001b[0;32m--> 188\u001b[0;31m             \u001b[0;32mreturn\u001b[0m \u001b[0mself\u001b[0m\u001b[0;34m.\u001b[0m\u001b[0m_sess\u001b[0m\u001b[0;34m.\u001b[0m\u001b[0mrun\u001b[0m\u001b[0;34m(\u001b[0m\u001b[0moutput_names\u001b[0m\u001b[0;34m,\u001b[0m \u001b[0minput_feed\u001b[0m\u001b[0;34m,\u001b[0m \u001b[0mrun_options\u001b[0m\u001b[0;34m)\u001b[0m\u001b[0;34m\u001b[0m\u001b[0;34m\u001b[0m\u001b[0m\n\u001b[0m\u001b[1;32m    189\u001b[0m         \u001b[0;32mexcept\u001b[0m \u001b[0mC\u001b[0m\u001b[0;34m.\u001b[0m\u001b[0mEPFail\u001b[0m \u001b[0;32mas\u001b[0m \u001b[0merr\u001b[0m\u001b[0;34m:\u001b[0m\u001b[0;34m\u001b[0m\u001b[0;34m\u001b[0m\u001b[0m\n\u001b[1;32m    190\u001b[0m             \u001b[0;32mif\u001b[0m \u001b[0mself\u001b[0m\u001b[0;34m.\u001b[0m\u001b[0m_enable_fallback\u001b[0m\u001b[0;34m:\u001b[0m\u001b[0;34m\u001b[0m\u001b[0;34m\u001b[0m\u001b[0m\n",
      "\u001b[0;31mInvalidArgument\u001b[0m: [ONNXRuntimeError] : 2 : INVALID_ARGUMENT : Got invalid dimensions for input: data for the following indices\n index: 1 Got: 2024 Expected: 4096\n Please fix either the inputs or the model."
     ]
    }
   ],
   "source": [
    "pred_onx = sess.run(None, {input_name: one_seq[:10].astype(np.int64)})[0]\n",
    "pred_onx.shape"
   ]
  },
  {
   "cell_type": "code",
   "execution_count": null,
   "id": "794acfcf-e4db-4efe-bc5f-c01e52557e91",
   "metadata": {},
   "outputs": [],
   "source": []
  }
 ],
 "metadata": {
  "kernelspec": {
   "display_name": "zenv",
   "language": "python",
   "name": "zenv"
  },
  "language_info": {
   "codemirror_mode": {
    "name": "ipython",
    "version": 3
   },
   "file_extension": ".py",
   "mimetype": "text/x-python",
   "name": "python",
   "nbconvert_exporter": "python",
   "pygments_lexer": "ipython3",
   "version": "3.8.10"
  }
 },
 "nbformat": 4,
 "nbformat_minor": 5
}
