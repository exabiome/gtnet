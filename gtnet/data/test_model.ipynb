{
 "cells": [
  {
   "cell_type": "code",
   "execution_count": 1,
   "id": "acf87375-4bf9-4bb1-acb1-582d165b300f",
   "metadata": {},
   "outputs": [],
   "source": [
    "import numpy as np\n",
    "import onnxruntime as rt\n",
    "import skbio"
   ]
  },
  {
   "cell_type": "code",
   "execution_count": 46,
   "id": "9e43438d-3a0e-4ead-8b72-cc9b96deae41",
   "metadata": {},
   "outputs": [],
   "source": [
    "sess = rt.InferenceSession('bac120_r202.resnet50.genus.onnx')"
   ]
  },
  {
   "cell_type": "code",
   "execution_count": 47,
   "id": "f3ee5f83-df9d-49da-8fa6-1ca48d6af7e6",
   "metadata": {},
   "outputs": [
    {
     "data": {
      "text/plain": [
       "<onnxruntime.capi.onnxruntime_inference_collection.InferenceSession at 0x2aaae6c51460>"
      ]
     },
     "execution_count": 47,
     "metadata": {},
     "output_type": "execute_result"
    }
   ],
   "source": [
    "sess"
   ]
  },
  {
   "cell_type": "code",
   "execution_count": 48,
   "id": "f9bc1a13-74e4-47b7-b33a-1896a394273f",
   "metadata": {},
   "outputs": [],
   "source": [
    "input_name = sess.get_inputs()[0].name"
   ]
  },
  {
   "cell_type": "code",
   "execution_count": 49,
   "id": "2a2ddd0f-1697-431f-8114-30108e9247ed",
   "metadata": {},
   "outputs": [],
   "source": [
    "path = '/global/cscratch1/sd/azaidi/GCA_000006155.2_ASM615v2_genomic.fna'"
   ]
  },
  {
   "cell_type": "code",
   "execution_count": 6,
   "id": "5d80620b-d852-4b11-9348-ccde46862d3c",
   "metadata": {},
   "outputs": [],
   "source": [
    "def _get_DNA_map():\n",
    "    '''\n",
    "    create a DNA map with some redundancy so that we can\n",
    "    do base-complements with +/% operations.\n",
    "    Using this scheme, the complement of a base should be:\n",
    "    (base_integer + 9) % 18\n",
    "    chars[(basemap[ord('N')]+9)%18]\n",
    "    For this to work, bases need to be ordered as they are below\n",
    "    '''\n",
    "    chars = ('ACYWSKDVN'\n",
    "             'TGRWSMHBN')\n",
    "    basemap = np.zeros(128, dtype=np.uint8)\n",
    "    for i, c in reversed(list(enumerate(chars))):  # reverse so we store the lowest for self-complementary codes\n",
    "        basemap[ord(c)] = i\n",
    "        basemap[ord(c.lower())] = i\n",
    "    return chars, basemap"
   ]
  },
  {
   "cell_type": "code",
   "execution_count": 32,
   "id": "3084e05f-4ed9-4d08-b67d-c63e476d5024",
   "metadata": {},
   "outputs": [],
   "source": [
    "#this will just pull all the sequences from a fasta file\n",
    "def get_seqs(path):\n",
    "    #return [seq.values.view(np.uint8) for seq in skbio.io.read(path, format='fasta')]\n",
    "    return [seq.values for seq in skbio.io.read(path, format='fasta')]\n",
    "\n",
    "#this will produce a list featuring chunks of the sequence\n",
    "def chunk_seq(sequence, size):\n",
    "    num_windows = len(sequence)//size\n",
    "    return [sequence[size*i: size*(i+1)] for i in range(num_windows)]\n",
    "\n",
    "#this will map each item onto our basemap from above\n",
    "def map_seq(chunked_sequence, basemap):\n",
    "    #return basemap[np.array(chunked_sequence)]#.view(np.uint8)]\n",
    "    return basemap[np.vectorize(ord)(np.array(chunked_sequence))]\n",
    "\n",
    "#this will return the reverse complementary strand    \n",
    "def get_rev_comp(chunks, chars):\n",
    "    chars_dict = {i:v for i,v in enumerate(chars)}\n",
    "    return np.vectorize(chars_dict.get)((chunks + 9) %18)\n",
    "\n",
    "#combines fxns above into a single array with chunks in both directons\n",
    "def get_bidir_seq(sequence, size=4096):\n",
    "    chars, basemap = _get_DNA_map()\n",
    "    chunks = chunk_seq(sequence, size)\n",
    "    fwd_chunk_mapped = map_seq(chunks, basemap).astype(int)\n",
    "    rev_chunked = get_rev_comp(fwd_chunk_mapped, chars)\n",
    "    rev_chunk_mapped = map_seq(rev_chunked, basemap).astype(int)\n",
    "    bi_seq = np.append(fwd_chunk_mapped, rev_chunk_mapped, axis=0)\n",
    "    return bi_seq"
   ]
  },
  {
   "cell_type": "code",
   "execution_count": 33,
   "id": "fb2a6e10-36b4-4990-b0f4-39e27affee41",
   "metadata": {},
   "outputs": [
    {
     "data": {
      "text/plain": [
       "3"
      ]
     },
     "execution_count": 33,
     "metadata": {},
     "output_type": "execute_result"
    }
   ],
   "source": [
    "sequences = get_seqs(path)\n",
    "len(sequences)"
   ]
  },
  {
   "cell_type": "code",
   "execution_count": 41,
   "id": "bc39964f-5bff-4e73-95a4-9c25dd1057c8",
   "metadata": {},
   "outputs": [
    {
     "data": {
      "text/plain": [
       "88"
      ]
     },
     "execution_count": 41,
     "metadata": {},
     "output_type": "execute_result"
    }
   ],
   "source": [
    "one_seq = get_bidir_seq(sequences[1])\n",
    "len(one_seq)"
   ]
  },
  {
   "cell_type": "code",
   "execution_count": 42,
   "id": "5cba5413-183e-43e6-ac4d-371c042883e7",
   "metadata": {},
   "outputs": [
    {
     "data": {
      "text/plain": [
       "array([[ 9,  0,  9, ...,  9,  0,  1],\n",
       "       [ 0,  0, 10, ...,  9,  0,  0],\n",
       "       [ 9,  0,  0, ...,  0,  9, 10],\n",
       "       ...,\n",
       "       [ 1,  0,  0, ...,  9,  0, 10],\n",
       "       [ 0,  1, 10, ...,  0, 10, 10],\n",
       "       [10,  0,  0, ...,  0,  9,  0]])"
      ]
     },
     "execution_count": 42,
     "metadata": {},
     "output_type": "execute_result"
    }
   ],
   "source": [
    "one_seq"
   ]
  },
  {
   "cell_type": "code",
   "execution_count": 43,
   "id": "3d9560fa-8fef-425f-9cbe-4142b46f4945",
   "metadata": {},
   "outputs": [
    {
     "data": {
      "text/plain": [
       "(10, 4096)"
      ]
     },
     "execution_count": 43,
     "metadata": {},
     "output_type": "execute_result"
    }
   ],
   "source": [
    "one_seq[:10].shape"
   ]
  },
  {
   "cell_type": "code",
   "execution_count": 44,
   "id": "28b4cd96-8528-4d84-8373-53c6b025b319",
   "metadata": {},
   "outputs": [
    {
     "data": {
      "text/plain": [
       "(88, 1, 4096)"
      ]
     },
     "execution_count": 44,
     "metadata": {},
     "output_type": "execute_result"
    }
   ],
   "source": [
    "one_seq[:, None, :].shape"
   ]
  },
  {
   "cell_type": "code",
   "execution_count": 50,
   "id": "a8f99307-184f-4ee5-80ac-a033690da09b",
   "metadata": {},
   "outputs": [
    {
     "data": {
      "text/plain": [
       "(88, 12037)"
      ]
     },
     "execution_count": 50,
     "metadata": {},
     "output_type": "execute_result"
    }
   ],
   "source": [
    "pred_onx = sess.run(None, {input_name: one_seq.astype(np.int64)})[0]\n",
    "pred_onx.shape"
   ]
  },
  {
   "cell_type": "code",
   "execution_count": 51,
   "id": "794acfcf-e4db-4efe-bc5f-c01e52557e91",
   "metadata": {},
   "outputs": [],
   "source": [
    "def softmax(x):\n",
    "    return np.exp(x)/sum(np.exp(x))"
   ]
  },
  {
   "cell_type": "code",
   "execution_count": 35,
   "id": "4d4b3200-eff9-4470-aa5b-7356cdf5f2d6",
   "metadata": {},
   "outputs": [
    {
     "data": {
      "text/plain": [
       "(44, 12037)"
      ]
     },
     "execution_count": 35,
     "metadata": {},
     "output_type": "execute_result"
    }
   ],
   "source": [
    "soft_out = softmax(pred_onx)\n",
    "soft_out.shape"
   ]
  },
  {
   "cell_type": "code",
   "execution_count": 36,
   "id": "3436bced-5973-4f5b-8796-1da5d7adb1dd",
   "metadata": {},
   "outputs": [
    {
     "data": {
      "text/plain": [
       "316289"
      ]
     },
     "execution_count": 36,
     "metadata": {},
     "output_type": "execute_result"
    }
   ],
   "source": [
    "soft_out.argmax()"
   ]
  },
  {
   "cell_type": "code",
   "execution_count": 37,
   "id": "f719d8d1-1325-42f5-b277-2761e4f27fc1",
   "metadata": {},
   "outputs": [
    {
     "data": {
      "text/plain": [
       "7145"
      ]
     },
     "execution_count": 37,
     "metadata": {},
     "output_type": "execute_result"
    }
   ],
   "source": [
    "soft_out.mean(axis=0).argmax()"
   ]
  },
  {
   "cell_type": "code",
   "execution_count": 38,
   "id": "2082e359-6bf8-4f03-9905-5b66e0472c58",
   "metadata": {},
   "outputs": [],
   "source": [
    "import scipy.special"
   ]
  },
  {
   "cell_type": "code",
   "execution_count": 39,
   "id": "5fbc17df-5c26-48d0-bc34-e3ac2d18c076",
   "metadata": {},
   "outputs": [
    {
     "data": {
      "text/plain": [
       "(44, 12037)"
      ]
     },
     "execution_count": 39,
     "metadata": {},
     "output_type": "execute_result"
    }
   ],
   "source": [
    "scipy.special.softmax(pred_onx).shape"
   ]
  },
  {
   "cell_type": "code",
   "execution_count": 40,
   "id": "eb8d8369-bffd-4fc9-b90f-2a4f71928f8d",
   "metadata": {},
   "outputs": [
    {
     "name": "stdout",
     "output_type": "stream",
     "text": [
      "2.74 ms ± 125 µs per loop (mean ± std. dev. of 7 runs, 100 loops each)\n"
     ]
    }
   ],
   "source": [
    "%%timeit\n",
    "soft_out = scipy.special.softmax(pred_onx)\n",
    "soft_out"
   ]
  },
  {
   "cell_type": "code",
   "execution_count": 41,
   "id": "9ad28d4d-59e2-433e-9e21-cce6b11e5aef",
   "metadata": {},
   "outputs": [],
   "source": [
    "import matplotlib.pyplot as plt"
   ]
  },
  {
   "cell_type": "code",
   "execution_count": 42,
   "id": "7c2a84e3-40d4-4566-ab47-109bf05c0af2",
   "metadata": {},
   "outputs": [
    {
     "data": {
      "text/plain": [
       "[<matplotlib.lines.Line2D at 0x2aab0ff149a0>]"
      ]
     },
     "execution_count": 42,
     "metadata": {},
     "output_type": "execute_result"
    },
    {
     "data": {
      "image/png": "[encoded data removed]",
      "text/plain": [
       "<Figure size 432x288 with 1 Axes>"
      ]
     },
     "metadata": {
      "needs_background": "light"
     },
     "output_type": "display_data"
    }
   ],
   "source": [
    "plt.plot(soft_out[0])"
   ]
  },
  {
   "cell_type": "code",
   "execution_count": 63,
   "id": "d51692f6-aeab-4721-969a-066f6756e09a",
   "metadata": {},
   "outputs": [
    {
     "data": {
      "text/plain": [
       "1221"
      ]
     },
     "execution_count": 63,
     "metadata": {},
     "output_type": "execute_result"
    }
   ],
   "source": [
    "soft_out[0].argmax()"
   ]
  },
  {
   "cell_type": "code",
   "execution_count": 75,
   "id": "f74468dc-50e5-4604-8e51-61ca3fb05884",
   "metadata": {},
   "outputs": [],
   "source": [
    "#[x.argmax() for x in soft_out]"
   ]
  },
  {
   "cell_type": "code",
   "execution_count": 68,
   "id": "d3c86cfb-d689-4209-86aa-397f55e3206a",
   "metadata": {},
   "outputs": [
    {
     "data": {
      "text/plain": [
       "(12037,)"
      ]
     },
     "execution_count": 68,
     "metadata": {},
     "output_type": "execute_result"
    }
   ],
   "source": [
    "soft_out.mean(axis=0).shape"
   ]
  },
  {
   "cell_type": "code",
   "execution_count": 70,
   "id": "dd071cce-c67e-4e34-ae68-79b27f5487ef",
   "metadata": {},
   "outputs": [
    {
     "data": {
      "text/plain": [
       "1221"
      ]
     },
     "execution_count": 70,
     "metadata": {},
     "output_type": "execute_result"
    }
   ],
   "source": [
    "soft_out.mean(axis=0).argmax()"
   ]
  },
  {
   "cell_type": "code",
   "execution_count": 78,
   "id": "787867ee-0f29-4207-acfb-51c83b0b0029",
   "metadata": {},
   "outputs": [],
   "source": [
    "def get_prob(x):\n",
    "    soft_out = scipy.special.softmax(x)\n",
    "    probabilities = soft_out.mean(axis=0)\n",
    "    return probabilities"
   ]
  },
  {
   "cell_type": "code",
   "execution_count": 79,
   "id": "65dd4f27-8fa1-4b6e-b41c-4a9752da8d55",
   "metadata": {},
   "outputs": [
    {
     "data": {
      "text/plain": [
       "(12037,)"
      ]
     },
     "execution_count": 79,
     "metadata": {},
     "output_type": "execute_result"
    }
   ],
   "source": [
    "get_prob(pred_onx).shape"
   ]
  },
  {
   "cell_type": "code",
   "execution_count": null,
   "id": "9cdf64a6-a8cc-497d-b17e-8374aa3886d7",
   "metadata": {},
   "outputs": [],
   "source": []
  }
 ],
 "metadata": {
  "kernelspec": {
   "display_name": "zenv",
   "language": "python",
   "name": "zenv"
  },
  "language_info": {
   "codemirror_mode": {
    "name": "ipython",
    "version": 3
   },
   "file_extension": ".py",
   "mimetype": "text/x-python",
   "name": "python",
   "nbconvert_exporter": "python",
   "pygments_lexer": "ipython3",
   "version": "3.8.10"
  }
 },
 "nbformat": 4,
 "nbformat_minor": 5
}
